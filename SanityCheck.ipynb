{
 "cells": [
  {
   "cell_type": "code",
   "execution_count": 2,
   "id": "5c451ce1-5fd6-4160-b667-57d4247ecee7",
   "metadata": {},
   "outputs": [],
   "source": [
    "from global_variables import *\n",
    "import numpy as np\n",
    "from lv import lat_long_to_cartesian"
   ]
  },
  {
   "cell_type": "code",
   "execution_count": 15,
   "id": "0b5f7ad3-2ccd-4b7a-b2df-fc48156a9d40",
   "metadata": {},
   "outputs": [],
   "source": [
    "fnal_xyz = lat_long_to_cartesian(fermi_lat*np.pi/180.,fermi_long*np.pi/180.)\n",
    "km3_xyz = lat_long_to_cartesian(KM3NeT_lat*np.pi/180.,KM3NeT_long*np.pi/180.)\n",
    "pone_xyz = lat_long_to_cartesian(PONE_lat*np.pi/180.,PONE_long*np.pi/180.)\n",
    "ic_xyz = lat_long_to_cartesian(ICECUBE_lat*np.pi/180.,ICECUBE_long*np.pi/180.)"
   ]
  },
  {
   "cell_type": "code",
   "execution_count": 8,
   "id": "8fcd8cf0-ea73-47f7-a42a-f58763297ebb",
   "metadata": {},
   "outputs": [
    {
     "data": {
      "text/plain": [
       "7826.234266538951"
      ]
     },
     "execution_count": 8,
     "metadata": {},
     "output_type": "execute_result"
    }
   ],
   "source": [
    "np.linalg.norm(fnal_xyz-km3_xyz)"
   ]
  },
  {
   "cell_type": "code",
   "execution_count": 10,
   "id": "84ed797a-1b60-47af-b6ef-a4302f7f86fa",
   "metadata": {},
   "outputs": [
    {
     "data": {
      "text/plain": [
       "7124.54818"
      ]
     },
     "execution_count": 10,
     "metadata": {},
     "output_type": "execute_result"
    }
   ],
   "source": [
    "KM3NeT_BASELINE/1e3"
   ]
  },
  {
   "cell_type": "code",
   "execution_count": 13,
   "id": "fea5092c-8324-417f-aed6-246ef10bf9b3",
   "metadata": {},
   "outputs": [
    {
     "data": {
      "text/plain": [
       "11632.634296394386"
      ]
     },
     "execution_count": 13,
     "metadata": {},
     "output_type": "execute_result"
    }
   ],
   "source": [
    "np.linalg.norm(fnal_xyz-ic_xyz)"
   ]
  },
  {
   "cell_type": "code",
   "execution_count": 20,
   "id": "1e4f2ef1-9329-4f98-a849-e62c17df9251",
   "metadata": {},
   "outputs": [
    {
     "data": {
      "text/plain": [
       "11632.634296394386"
      ]
     },
     "execution_count": 20,
     "metadata": {},
     "output_type": "execute_result"
    }
   ],
   "source": [
    "ICECUBE_BASELINE/1e3"
   ]
  },
  {
   "cell_type": "code",
   "execution_count": 21,
   "id": "d472b5f5-4df8-4ada-893c-425b5c2cbc27",
   "metadata": {},
   "outputs": [
    {
     "data": {
      "text/plain": [
       "3397.563176065286"
      ]
     },
     "execution_count": 21,
     "metadata": {},
     "output_type": "execute_result"
    }
   ],
   "source": [
    "np.linalg.norm(fnal_xyz-pone_xyz)"
   ]
  },
  {
   "cell_type": "code",
   "execution_count": 22,
   "id": "ac2c04db-2137-4343-946a-3adbd58b4834",
   "metadata": {},
   "outputs": [
    {
     "data": {
      "text/plain": [
       "2829.21972"
      ]
     },
     "execution_count": 22,
     "metadata": {},
     "output_type": "execute_result"
    }
   ],
   "source": [
    "PONE_BASELINE/1e3"
   ]
  },
  {
   "cell_type": "code",
   "execution_count": null,
   "id": "959b1167-6e74-4fd3-9d81-7470e5d2d16f",
   "metadata": {},
   "outputs": [],
   "source": []
  }
 ],
 "metadata": {
  "kernelspec": {
   "display_name": "Python 3 (ipykernel)",
   "language": "python",
   "name": "python3"
  },
  "language_info": {
   "codemirror_mode": {
    "name": "ipython",
    "version": 3
   },
   "file_extension": ".py",
   "mimetype": "text/x-python",
   "name": "python",
   "nbconvert_exporter": "python",
   "pygments_lexer": "ipython3",
   "version": "3.12.2"
  }
 },
 "nbformat": 4,
 "nbformat_minor": 5
}
